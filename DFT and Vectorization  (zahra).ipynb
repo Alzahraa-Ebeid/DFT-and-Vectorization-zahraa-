{
 "cells": [
  {
   "cell_type": "code",
   "execution_count": 1,
   "metadata": {},
   "outputs": [],
   "source": [
    "from scipy import signal\n",
    "import lab11_helper\n",
    "import numpy as np\n",
    "import matplotlib.pyplot as plt\n",
    "import timeit, time\n",
    "%matplotlib inline"
   ]
  },
  {
   "cell_type": "code",
   "execution_count": null,
   "metadata": {},
   "outputs": [],
   "source": [
    "# We define some useful constants:\n",
    "pii = np.pi # Identifying pi \n",
    "j = np.complex(0,1) # identifying the complex number j"
   ]
  },
  {
   "cell_type": "markdown",
   "metadata": {},
   "source": [
    "# Background\n",
    "\n",
    "## What is the FFT?\n",
    "\n",
    "In this lab, we'll implement the Fast Fourier Transform (FFT), an algorithm that computes the Discrete Fourier Transform (DFT) of a signal. Note that the DFT and FFT are *not* separate transforms: the FFT is just a specific algorithm for implementing the DFT, in the same way that quicksort is a specific algorithm for sorting an array. And, chances are, you've called a library function to sort an array before in Java or Python. But have you ever bothered to peruse the [source code for Java's Arrays.sort](http://developer.classpath.org/doc/java/util/Arrays-source.html) or for [Python's list sorting function](https://github.com/python/cpython/blob/master/Objects/listobject.c)? Probably not. And the beauty of well-designed abstractions is that you've never needed to - you can just call Arrays.sort (in Java) or `sort` (in Python) and everything's handled for you. Similarly, in practice, engineers don't care about the internals of `numpy.fft.fft` (numpy's function for computing the DFT), they just treat it as a black box for computing the DFT. However, in this lab, you'll get a chance to take a look inside the box, build your own, and compare it against the state of the art! This is well worth the effort given how widely used the FFT is in practical spectral analysis and as a building block for efficiently implementing dozens of other signal processing algorithms such as convolution, cross-correlation, image and audio compression, and more!"
   ]
  },
  {
   "cell_type": "markdown",
   "metadata": {},
   "source": [
    "# Q1: Naive DFT"
   ]
  },
  {
   "cell_type": "markdown",
   "metadata": {},
   "source": [
    "## Q1a: DFT Code\n",
    "\n",
    "We'll begin by implementing the DFT the \"naive\" way by simply translating the DFT analysis equation into code. \n",
    "\n",
    "If we have a signal of duration $N$ (in a computer, a numpy array of length $N$), the DFT analysis equation is:\n",
    "\n",
    "$$X[k] = \\sum_{n = 0}^{N-1} x[n] e^{-j\\frac{2\\pi}{N}nk}$$\n",
    "\n",
    "for $k, n \\in \\{0, 1, 2, ..., N - 1\\}$. In general, $X[k]$ is a complex-valued array, even if $x[n]$ is purely real, which we must account for when writing our code by declaring our output type as `np.complex128` (a pair of floating-point \"real\" numbers, each 64 bits, for a total of 128 bits). If we don't, numpy will throw out the imaginary part when doing our computations, and return the incorrect result.\n",
    "\n",
    "Fill in the function `dft` below to compute the DFT based on the analysis equation. In your array `X` that you output, `X[k], k = 0, 1, ..., N-1` should be the value of the `k`th DFT coefficient.\n",
    "\n",
    "**Hint 1:** The function call `np.exp(z)` returns $e^z$, where $z$ is any number, real or complex. You've used this function before, but only on real numbers or arrays of real numbers. It works for complex inputs too!  \n",
    "**Hint 2:** In Python, `1j` is used to represent the complex number $j$. For example, the Python expression `1j * 2 * np.pi` would evaluate to $2\\pi j$. If you forget the 1 in front of the `j`, Python will think you're trying to reference a variable called `j` rather than the imaginary unit."
   ]
  },
  {
   "cell_type": "code",
   "execution_count": 3,
   "metadata": {},
   "outputs": [],
   "source": [
    "def dft(x):\n",
    "    N = len(x)\n",
    "    X = np.zeros(N, dtype=np.complex128) # output array\n",
    "    ## TODO your code here ##\n",
    "    \n",
    "    for k in range(N):\n",
    "        for n in range(N):\n",
    "            X[k] += x[n]*np.exp(-1j*2*np.pi*n*k/N)\n",
    "    ## TODO your code here ##\n",
    "    return X"
   ]
  },
  {
   "cell_type": "markdown",
   "metadata": {},
   "source": [
    "Let's do a couple quick sanity checks on our naive DFT function to make sure it returns the correct results. Run the cells below to check your work. If all tests do not print \"True\" for whether or not they passed, your `dft` function is buggy. \n",
    "\n",
    "Don't worry if it takes around half a minute (it shouldn't take more than 3-4 minutes to run all 5 of the tests) for the fourth and fifth tests to run - it's because we wrote a naive implementation of the DFT, which takes a long time for large inputs! By the end of this notebook, we'll have made big improvements, and hopefully these tests will make you appreciate the FFT a bit, as 1024 and 2048 are fairly commonly used data chunk sizes to take FFTs of in the real world."
   ]
  },
  {
   "cell_type": "markdown",
   "metadata": {},
   "source": [
    "This will take anywhere from 30 seconds to a few minutes to run depending on your laptop's processing power. This cell isn't graded on time, just correctness."
   ]
  },
  {
   "cell_type": "code",
   "execution_count": 4,
   "metadata": {},
   "outputs": [
    {
     "name": "stdout",
     "output_type": "stream",
     "text": [
      "Test 1 passed: True\n",
      "Test 2 passed: True\n",
      "Test 3 passed: True\n",
      "Test 4 passed: True\n",
      "Test 5 passed: True\n",
      "Tests took 180.991 seconds\n"
     ]
    }
   ],
   "source": [
    "lab11_helper.run_fft_tests(dft)"
   ]
  },
  {
   "cell_type": "markdown",
   "metadata": {},
   "source": [
    "## Q1b: DFT Vectorized Code\n",
    "Our implementation for the DFT function above was done in an iterative method, i.e. using Loops. This is not preferred due to the slowness and computation complexity of iterative algorithms. <br>\n",
    "\n",
    "Another way to implement the DFT function is to use code vectorization. To understand code vectorization, let's compare the 2 different implementations of the following code, which calculates matrix multiplication."
   ]
  },
  {
   "cell_type": "code",
   "execution_count": 5,
   "metadata": {},
   "outputs": [],
   "source": [
    "# First Generate 2 matrix to be multiplied\n",
    "x = np.arange(1, 10).reshape(3,3)  # Generate 3x3 matrix having values from 1 to 9\n",
    "y = np.random.randint(0, 10, (3,1))  # Generate 3x1 matrix having random integers from 1 to 10"
   ]
  },
  {
   "cell_type": "code",
   "execution_count": 6,
   "metadata": {},
   "outputs": [],
   "source": [
    "# Impliment matrix multiplication without using vecorization, i.e. using loops\n",
    "def loop_dot(x, y):\n",
    "    z = np.zeros((x.shape[0], y.shape[1]))\n",
    "    for i in range(x.shape[0]):\n",
    "        for j in range(y.shape[1]):\n",
    "            z[i][j] = np.dot(x[i,:], y[:,j]) \n",
    "    return z"
   ]
  },
  {
   "cell_type": "code",
   "execution_count": 7,
   "metadata": {},
   "outputs": [
    {
     "name": "stdout",
     "output_type": "stream",
     "text": [
      "[[ 40.]\n",
      " [100.]\n",
      " [160.]]\n"
     ]
    }
   ],
   "source": [
    "z = loop_dot(x, y)\n",
    "print(z)"
   ]
  },
  {
   "cell_type": "markdown",
   "metadata": {},
   "source": [
    "Now we will use np.dot() function, which calculates the multiplication of 2 matrices using code vectorization."
   ]
  },
  {
   "cell_type": "code",
   "execution_count": 8,
   "metadata": {},
   "outputs": [
    {
     "name": "stdout",
     "output_type": "stream",
     "text": [
      "[[ 40]\n",
      " [100]\n",
      " [160]]\n"
     ]
    }
   ],
   "source": [
    "# Vectorized Implimentation\n",
    "z = np.dot(x, y)\n",
    "print(z)"
   ]
  },
  {
   "cell_type": "markdown",
   "metadata": {},
   "source": [
    "Now let's think how to impliment the vectorized DFT function.<br>\n",
    "As a start we will begin with a vectorized code that calculates X[0] & X[1], then extend our implimentation to the whole DFT matrix. <br>\n",
    "\n",
    "$$X[0] = \\sum_{n = 0}^{N-1} x[n] e^{-j\\frac{2\\pi}{N}n (0)}$$\n",
    "$$X[0] = \\sum_{n = 0}^{N-1} x[n] $$\n",
    "$$X[1] = \\sum_{n = 0}^{N-1} x[n] e^{-j\\frac{2\\pi}{N}n (1)}$$\n",
    "$$X[1] = x[0] e^{0} + x[1] e^{-j\\frac{2\\pi}{N}}+ x[2] e^{-j\\frac{2\\pi}{N} * 2} + .....$$"
   ]
  },
  {
   "cell_type": "code",
   "execution_count": 9,
   "metadata": {},
   "outputs": [
    {
     "name": "stdout",
     "output_type": "stream",
     "text": [
      "45\n"
     ]
    }
   ],
   "source": [
    "# Calulate X[0]\n",
    "X_0 = np.sum(x)\n",
    "print(X_0)"
   ]
  },
  {
   "cell_type": "code",
   "execution_count": 10,
   "metadata": {},
   "outputs": [
    {
     "ename": "TypeError",
     "evalue": "only length-1 arrays can be converted to Python scalars",
     "output_type": "error",
     "traceback": [
      "\u001b[1;31m---------------------------------------------------------------------------\u001b[0m",
      "\u001b[1;31mTypeError\u001b[0m                                 Traceback (most recent call last)",
      "\u001b[1;32m~\\AppData\\Local\\Temp/ipykernel_16116/436023209.py\u001b[0m in \u001b[0;36m<module>\u001b[1;34m\u001b[0m\n\u001b[0;32m      4\u001b[0m \u001b[0mexp\u001b[0m \u001b[1;33m=\u001b[0m \u001b[0mnp\u001b[0m\u001b[1;33m.\u001b[0m\u001b[0mexp\u001b[0m\u001b[1;33m(\u001b[0m\u001b[1;33m-\u001b[0m\u001b[0mj\u001b[0m \u001b[1;33m*\u001b[0m \u001b[1;36m2\u001b[0m \u001b[1;33m*\u001b[0m \u001b[0mpii\u001b[0m \u001b[1;33m/\u001b[0m \u001b[0mlen\u001b[0m\u001b[1;33m(\u001b[0m\u001b[0mx\u001b[0m\u001b[1;33m)\u001b[0m \u001b[1;33m*\u001b[0m \u001b[0mn\u001b[0m\u001b[1;33m)\u001b[0m  \u001b[1;31m# Exponential matrix where n ranges from 0 to N-1\u001b[0m\u001b[1;33m\u001b[0m\u001b[1;33m\u001b[0m\u001b[0m\n\u001b[0;32m      5\u001b[0m \u001b[0mX_1\u001b[0m \u001b[1;33m=\u001b[0m \u001b[0mnp\u001b[0m\u001b[1;33m.\u001b[0m\u001b[0msum\u001b[0m\u001b[1;33m(\u001b[0m\u001b[0mx\u001b[0m \u001b[1;33m*\u001b[0m \u001b[0mexp\u001b[0m\u001b[1;33m)\u001b[0m\u001b[1;33m\u001b[0m\u001b[1;33m\u001b[0m\u001b[0m\n\u001b[1;32m----> 6\u001b[1;33m \u001b[0mprint\u001b[0m\u001b[1;33m(\u001b[0m\u001b[1;34m\"Vectorized Implimentation X[1] = \"\u001b[0m\u001b[1;33m,\u001b[0m \u001b[0mX_1\u001b[0m\u001b[1;33m,\u001b[0m \u001b[1;34m\"\\nNon-Vectorized Implmenation - dft function - X[1] = \"\u001b[0m\u001b[1;33m,\u001b[0m \u001b[0mdft\u001b[0m\u001b[1;33m(\u001b[0m\u001b[0mx\u001b[0m\u001b[1;33m)\u001b[0m\u001b[1;33m[\u001b[0m\u001b[1;36m1\u001b[0m\u001b[1;33m]\u001b[0m\u001b[1;33m)\u001b[0m\u001b[1;33m\u001b[0m\u001b[1;33m\u001b[0m\u001b[0m\n\u001b[0m",
      "\u001b[1;32m~\\AppData\\Local\\Temp/ipykernel_16116/899939232.py\u001b[0m in \u001b[0;36mdft\u001b[1;34m(x)\u001b[0m\n\u001b[0;32m      6\u001b[0m     \u001b[1;32mfor\u001b[0m \u001b[0mk\u001b[0m \u001b[1;32min\u001b[0m \u001b[0mrange\u001b[0m\u001b[1;33m(\u001b[0m\u001b[0mN\u001b[0m\u001b[1;33m)\u001b[0m\u001b[1;33m:\u001b[0m\u001b[1;33m\u001b[0m\u001b[1;33m\u001b[0m\u001b[0m\n\u001b[0;32m      7\u001b[0m         \u001b[1;32mfor\u001b[0m \u001b[0mn\u001b[0m \u001b[1;32min\u001b[0m \u001b[0mrange\u001b[0m\u001b[1;33m(\u001b[0m\u001b[0mN\u001b[0m\u001b[1;33m)\u001b[0m\u001b[1;33m:\u001b[0m\u001b[1;33m\u001b[0m\u001b[1;33m\u001b[0m\u001b[0m\n\u001b[1;32m----> 8\u001b[1;33m             \u001b[0mX\u001b[0m\u001b[1;33m[\u001b[0m\u001b[0mk\u001b[0m\u001b[1;33m]\u001b[0m \u001b[1;33m+=\u001b[0m \u001b[0mx\u001b[0m\u001b[1;33m[\u001b[0m\u001b[0mn\u001b[0m\u001b[1;33m]\u001b[0m\u001b[1;33m*\u001b[0m\u001b[0mnp\u001b[0m\u001b[1;33m.\u001b[0m\u001b[0mexp\u001b[0m\u001b[1;33m(\u001b[0m\u001b[1;33m-\u001b[0m\u001b[1;36m1j\u001b[0m\u001b[1;33m*\u001b[0m\u001b[1;36m2\u001b[0m\u001b[1;33m*\u001b[0m\u001b[0mnp\u001b[0m\u001b[1;33m.\u001b[0m\u001b[0mpi\u001b[0m\u001b[1;33m*\u001b[0m\u001b[0mn\u001b[0m\u001b[1;33m*\u001b[0m\u001b[0mk\u001b[0m\u001b[1;33m/\u001b[0m\u001b[0mN\u001b[0m\u001b[1;33m)\u001b[0m\u001b[1;33m\u001b[0m\u001b[1;33m\u001b[0m\u001b[0m\n\u001b[0m\u001b[0;32m      9\u001b[0m     \u001b[1;31m## TODO your code here ##\u001b[0m\u001b[1;33m\u001b[0m\u001b[1;33m\u001b[0m\u001b[0m\n\u001b[0;32m     10\u001b[0m     \u001b[1;32mreturn\u001b[0m \u001b[0mX\u001b[0m\u001b[1;33m\u001b[0m\u001b[1;33m\u001b[0m\u001b[0m\n",
      "\u001b[1;31mTypeError\u001b[0m: only length-1 arrays can be converted to Python scalars"
     ]
    }
   ],
   "source": [
    "# Calculate X[1]\n",
    "N = len(x) \n",
    "n = np.arange(0, N).reshape(1, N)\n",
    "exp = np.exp(-j * 2 * pii / len(x) * n)  # Exponential matrix where n ranges from 0 to N-1\n",
    "X_1 = np.sum(x * exp)\n",
    "print(\"Vectorized Implimentation X[1] = \", X_1, \"\\nNon-Vectorized Implmenation - dft function - X[1] = \", dft(x)[1])"
   ]
  },
  {
   "cell_type": "markdown",
   "metadata": {},
   "source": [
    "We shall extend our implementation to calculate the DFT matrix. As shown in the figure below, we need first to generate the DFT matrix. We can notice that we have 2 variables n & k that each has a range from 0 to N-1.\n",
    "\n",
    "![DFT](./dft.JPG)"
   ]
  },
  {
   "cell_type": "code",
   "execution_count": null,
   "metadata": {},
   "outputs": [],
   "source": [
    "def dft_vec(x):\n",
    "    N = len(x)\n",
    "    X = np.zeros(N, dtype=np.complex128) # output array\n",
    "    ## TODO your code here ##\n",
    "    n = np.arange(0, N).reshape(1, N)\n",
    "    k = n\n",
    "    print(np.dot(k.T, n))  # Matrix of n*k value to be included in the exponent of the DFT matrix\n",
    "    dft = np.exp(2 * j * pii * np.dot(k.T, n))   # DFT matrix shown in the figure above\n",
    "    X = np.dot(dft, x)\n",
    "    ## TODO your code here ##\n",
    "    return X"
   ]
  },
  {
   "cell_type": "code",
   "execution_count": null,
   "metadata": {},
   "outputs": [],
   "source": [
    "X = dft_vec(x)\n",
    "print(X)"
   ]
  },
  {
   "cell_type": "markdown",
   "metadata": {},
   "source": [
    "# Q2: DCT (Discrete Cosine Transform)"
   ]
  },
  {
   "cell_type": "markdown",
   "metadata": {},
   "source": [
    "In this section, you are required to calculate the DCT of a matrix, using both vectorized and non-vectorized methods.<br>\n",
    "\n",
    "If we have a signal of duration $N$ (in a computer, a numpy array of length $N$), the DCT analysis equation is:\n",
    "\n",
    "$$X[k] = \\sqrt{2/N}  Ck \\sum_{n = 0}^{N-1}  x[n] cos((2j+1)\\frac{pi}{2N}k)$$\n",
    "$$Ck = \\frac{1}{\\sqrt{2}}\\ if\\ k = 0$$\n",
    "$$\\ = 1\\ otherwise$$\n"
   ]
  },
  {
   "cell_type": "markdown",
   "metadata": {},
   "source": [
    "## Q2a: DFT Code"
   ]
  },
  {
   "cell_type": "code",
   "execution_count": null,
   "metadata": {},
   "outputs": [],
   "source": [
    "# DCT without Vectorization\n",
    "def dct(x):\n",
    "    N = len(x)\n",
    "    X = np.zeros(N, dtype=np.complex128) # output array\n",
    "    ## TODO your code here ##\n",
    "    CK=1/sqrt(2)\n",
    "    for k in range(N):\n",
    "        for n in range(N):\n",
    "            X[k] += sqrt(2/N)*CK*np.cos((2j+1)*(pii/2*N)*k)\n",
    "    ## TODO your code here ##\n",
    "    return X"
   ]
  },
  {
   "cell_type": "code",
   "execution_count": null,
   "metadata": {},
   "outputs": [],
   "source": [
    "X=dct(x)\n",
    "print(X)"
   ]
  },
  {
   "cell_type": "markdown",
   "metadata": {},
   "source": [
    "## Q2b: DFT Vectorized Code"
   ]
  },
  {
   "cell_type": "code",
   "execution_count": null,
   "metadata": {},
   "outputs": [],
   "source": [
    "# DCT using Vectorization\n",
    "def dct_vec(x):\n",
    "    N = len(x)\n",
    "    X = np.zeros(N, dtype=np.complex128) # output array\n",
    "    ## TODO your code here ##\n",
    "    n = np.arange(0, N).reshape(1, N)\n",
    "    k = n\n",
    "    print(np.dot(k.T, n))  # Matrix of n*k value to be included in the exponent of the DFT matrix\n",
    "    dft = np.cos((2j+1)*(pii/2*N)*k)  # DFT matrix shown in the figure above\n",
    "    X = np.dot(dft, x)\n",
    "    ## TODO your code here ##\n",
    "    return X"
   ]
  },
  {
   "cell_type": "code",
   "execution_count": null,
   "metadata": {},
   "outputs": [],
   "source": [
    "import math\n",
    "from math import sqrt\n"
   ]
  },
  {
   "cell_type": "code",
   "execution_count": null,
   "metadata": {},
   "outputs": [],
   "source": [
    "X = dct_vec(x)\n",
    "print(X)"
   ]
  },
  {
   "cell_type": "code",
   "execution_count": null,
   "metadata": {},
   "outputs": [],
   "source": []
  }
 ],
 "metadata": {
  "kernelspec": {
   "display_name": "Python 3 (ipykernel)",
   "language": "python",
   "name": "python3"
  },
  "language_info": {
   "codemirror_mode": {
    "name": "ipython",
    "version": 3
   },
   "file_extension": ".py",
   "mimetype": "text/x-python",
   "name": "python",
   "nbconvert_exporter": "python",
   "pygments_lexer": "ipython3",
   "version": "3.9.7"
  }
 },
 "nbformat": 4,
 "nbformat_minor": 4
}
